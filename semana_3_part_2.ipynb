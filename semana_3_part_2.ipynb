{
 "cells": [
  {
   "cell_type": "markdown",
   "id": "1774eff0-796e-4fe9-9c66-7068c1bce8d9",
   "metadata": {},
   "source": [
    "# Introduccion a linux\n",
    "Linux: basic commands \n",
    "\n",
    "## **ls comand** \n",
    "\n",
    "**Sintaxis** \n",
    "\n",
    "ls [options][directories]\n",
    "\n",
    "**Proposito** \n",
    "\n",
    "List the contents of a directory \n",
    "\n",
    "- `ls -a` : Nos muestra los archivos y directorios dentro del directorio actual, incluyendo los archivos y directorios ocultos.\n",
    "- `ls -t` : Ordena los archivos por fecha de modificación\n",
    "- `ls -X` : Ordena los archivos por extensión\n",
    "- `ls -l` : Muestra toda la información: usuario, grupo, permisos, tamaño, fecha y hora de creación. \n",
    "- `ls -lh` : Muestra la misma información que ls -l pero con las unidades de tamaño en KB, MB, etc.\n",
    "- `ls -R` : Muestra el contenido de todos los subdirectorios de forma recursiva.\n",
    "- `ls -S` : Ordena los resultados por tamaño de archivo.\n",
    "- `ls -F` : Identifica archivos comunes, directorios (/), archivos ejecutables (*) y links simbolicos. "
   ]
  },
  {
   "cell_type": "code",
   "execution_count": 9,
   "id": "5fac2b4e-0072-48bf-a440-55270c3e6081",
   "metadata": {},
   "outputs": [
    {
     "name": "stdout",
     "output_type": "stream",
     "text": [
      "\u001b]777;preexec\u001b\\total 49756\n",
      "-rw-r--r--. 1 jpramosg jpramosg     2522 Apr 14 15:03  Actividad_DatosCancer-2.ipynb\n",
      "-rw-r--r--. 1 jpramosg jpramosg      290 Apr 21 15:14  cpu.txt\n",
      "-rw-r--r--. 1 jpramosg jpramosg  4425573 Apr 29 08:19  DBBS_Programación_Clase1_Prompt.pdf\n",
      "-rw-r--r--. 1 jpramosg jpramosg   357365 Apr 29 08:20  DBBS_Programación_Clase1_Python.pdf\n",
      "-rw-r--r--. 1 jpramosg jpramosg   694370 Apr 16 13:49  DBBS_Programación_Clase3_Python.pdf\n",
      "-rw-r--r--. 1 jpramosg jpramosg     6334 Apr 14 12:23  DepuraciónCodigos1-1.ipynb\n",
      "-rw-r--r--. 1 jpramosg jpramosg    34083 Apr 21 14:40  destino.pdb\n",
      "drwxr-xr-x. 1 jpramosg jpramosg       86 Apr 28 10:29  \u001b[0m\u001b[01;34mdrive-download-20250428T133857Z-001\u001b[0m/\n",
      "-rw-r--r--. 1 jpramosg jpramosg     3446 Apr 28 09:39  \u001b[01;31mdrive-download-20250428T133857Z-001.zip\u001b[0m\n",
      "-rw-rw-r--. 1 jpramosg jpramosg      432 Apr 28 10:35  ej1.sh\n",
      "-rw-rw-r--. 1 jpramosg jpramosg      394 Apr 28 10:37  ej2.sh\n",
      "-rw-rw-r--. 1 jpramosg jpramosg      454 Apr 25 09:51  ej3b.sh\n",
      "-rw-r--r--. 1 jpramosg jpramosg      281 Apr 28 11:05  ej3.sh\n",
      "-rw-rw-r--. 1 jpramosg jpramosg      411 Apr 25 09:51  ej4.sh\n",
      "-rw-rw-r--. 1 jpramosg jpramosg      598 Apr 28 11:33  ej5.sh\n",
      "-rw-rw-r--. 1 jpramosg jpramosg      813 Apr 25 10:01  ej7.sh\n",
      "-rw-r--r--. 1 jpramosg jpramosg      663 Apr 28 12:11  ej7_test.sh\n",
      "-rw-r--r--. 1 jpramosg jpramosg      348 Apr 28 12:41  ej8.sh\n",
      "-rw-r--r--. 1 jpramosg jpramosg    10906 Apr 21 10:56  Ejercicios_Python_Listas_Tuplas_Funciones_20+.ipynb\n",
      "-rw-r--r--. 1 jpramosg jpramosg        0 Apr 28 10:59  entrada.txt\n",
      "-rw-r--r--. 1 jpramosg jpramosg     1278 Apr 14 14:02  expresion.csv\n",
      "-rw-r--r--. 1 jpramosg jpramosg    21920 Mar 20 10:34 'Formulario Pre Inscripcioìn de Asignaturas.docx'\n",
      "-rw-r--r--. 1 jpramosg jpramosg     4033 Apr 14 15:04  frequently_mutated_genes_2024-10-28-1.csv\n",
      "-rwxr-xr-x. 1 jpramosg jpramosg    15952 Apr 21 10:25  \u001b[01;32mhola\u001b[0m*\n",
      "-rw-r--r--. 1 jpramosg jpramosg       77 Apr 21 10:25  hola.c\n",
      "-rw-r--r--. 1 jpramosg jpramosg      539 Apr 28 09:40  lista_archivos.txt\n",
      "-rw-r--r--. 1 jpramosg jpramosg 12051128 Apr 28 11:48  lista-final-mo2files-druggable.mol2\n",
      "-rw-r--r--. 1 jpramosg jpramosg       44 Apr 28 10:17  loop_for.sh\n",
      "-rw-r--r--. 1 jpramosg jpramosg       91 Apr 28 10:22  loop_while.sh\n",
      "-rw-r--r--. 1 jpramosg jpramosg     7187 Apr 28 14:08  Matrices_en_Python_Colab.ipynb\n",
      "-rw-r--r--. 1 jpramosg jpramosg        0 Apr 28 11:01  mole_alay_ala_2.pdb\n",
      "-rw-r--r--. 1 jpramosg jpramosg     3393 Apr 28 11:03  mole_alay_ala.pdb\n",
      "drwxr-xr-x. 1 jpramosg jpramosg   154378 Apr 28 12:01  \u001b[01;34mmoleculas_individuales\u001b[0m/\n",
      "drwxr-xr-x. 1 jpramosg jpramosg       70 Apr 28 12:11  \u001b[01;34mPDB_individuales\u001b[0m/\n",
      "-rw-r--r--. 1 jpramosg jpramosg 29279634 Apr 28 12:06  SALIDA.pdb\n",
      "-rw-r--r--. 1 jpramosg jpramosg     3434 Apr 28 11:05  salida_test.txt\n",
      "-rw-r--r--. 1 jpramosg jpramosg     3475 Apr 28 11:25  salida.txt\n",
      "-rw-r--r--. 1 jpramosg jpramosg       90 Apr 28 10:28  saludar.sh\n",
      "-rw-r--r--. 1 jpramosg jpramosg      237 Apr 21 14:36  script_bash_2.sh\n",
      "-rw-r--r--. 1 jpramosg jpramosg      182 Apr 21 14:37  script_bash_3.sh\n",
      "-rw-r--r--. 1 jpramosg jpramosg      190 Apr 21 14:31  script_bash.sh\n",
      "-rw-r--r--. 1 jpramosg jpramosg  2967879 Apr 29 08:21  SEMANA3_2025.pdf\n",
      "-rw-r--r--. 1 jpramosg jpramosg       73 Apr 14 09:39  seq1.fasta\n",
      "-rw-r--r--. 1 jpramosg jpramosg   663976 Apr 29 16:36 'Solemne 1.ipynb'\n",
      "-rw-r--r--. 1 jpramosg jpramosg   270331 Apr 26 22:05  SyllabusDBBS_CURSO_PROG_BIOINFO2025.pdf\n",
      "-rw-r--r--. 1 jpramosg jpramosg      137 Apr 28 10:51  test_1.sh\n",
      "-rw-r--r--. 1 jpramosg jpramosg     2271 May  1 13:08  Untitled.ipynb\n"
     ]
    },
    {
     "ename": "",
     "evalue": "1",
     "output_type": "error",
     "traceback": []
    }
   ],
   "source": [
    "ls -lF"
   ]
  },
  {
   "cell_type": "markdown",
   "id": "79a283b9-02a7-4531-8f25-8fcbd45c8f47",
   "metadata": {},
   "source": [
    "## **cat comand**\n",
    "\n",
    "**Sintaxis** \n",
    "\n",
    "cat[archivo1 archivo2] \n",
    "\n",
    "**Proposito** \n",
    "Concatenate and display the contents of files. "
   ]
  },
  {
   "cell_type": "code",
   "execution_count": 10,
   "id": "2b3b2565-5098-41c5-bdda-7987890c64bd",
   "metadata": {},
   "outputs": [
    {
     "name": "stdout",
     "output_type": "stream",
     "text": [
      "\u001b]777;preexec\u001b\\>seq1 soy un ejemplo\n",
      "ATGCTGCGCTAAAAAAAGTGCAAGTCGCGTGCTGAGATAGATACCCCCTCGT\n"
     ]
    },
    {
     "ename": "",
     "evalue": "1",
     "output_type": "error",
     "traceback": []
    }
   ],
   "source": [
    "cat seq1.fasta"
   ]
  },
  {
   "cell_type": "markdown",
   "id": "627c74b2-5628-44de-b593-6a6ed2403ace",
   "metadata": {},
   "source": [
    "## **cp comand** \n",
    "\n",
    "**Sintaxis** \n",
    "\n",
    "cp [origen][destino]\n",
    "\n",
    "**Proposito** \n",
    "\n",
    "Copiar archivos o directorios \n",
    "\n",
    "* `cp archivo1 archivo_old`\n",
    "* `cp -r` permite copiar un directorio "
   ]
  },
  {
   "cell_type": "markdown",
   "id": "7e983c6a-aa24-40f9-9445-e4f919af95e8",
   "metadata": {},
   "source": [
    "## **rm command** \n",
    "\n",
    "**Sintaxis** \n",
    "\n",
    "rm [flags] archivo1 archivo2 \n",
    "\n",
    "**Proposito** \n",
    "\n",
    "borrar archivos \n",
    "\n",
    "**flags** \n",
    "\n",
    "* `-i` : pide confirmar antes de borrar\n",
    "* `-r` : borra un directorio y todos los archivos y directorios\n",
    "* `-f` : no pide confirmación antes de borrar. "
   ]
  },
  {
   "cell_type": "markdown",
   "id": "44cd618c-2771-4119-aed5-a2b2db9e1697",
   "metadata": {},
   "source": [
    "## **Scripting in bash - If/Else** \n",
    "\n",
    "### **Structure** \n",
    "\n",
    "```bash\n",
    "if [[ condition ]];\n",
    "then \n",
    "    statement \n",
    "elif [[ condition ]]; \n",
    "then \n",
    "    statement \n",
    "else \n",
    "    do this by default \n",
    "fi\n",
    "\n",
    "exit 0\n",
    "\n",
    "``` \n",
    "\n",
    "## **Ejemplo** \n",
    "\n",
    "```bash\n",
    "\n",
    "#!/bin/bash \n",
    "\n",
    "echo \"Please enter a number: \" \n",
    "read num \n",
    "\n",
    "if [ $num -gt 0]; then \n",
    "echo \"$num is positive\" \n",
    "elif [ $num -lt 0 ]; then \n",
    "echo \"$num is negative\" \n",
    "else \n",
    "echo \"$num is zero\" \n",
    "fi \n",
    "\n",
    "```\n"
   ]
  },
  {
   "cell_type": "code",
   "execution_count": 11,
   "id": "f9ae3f04-35e6-4113-aa83-ee7ca4e7eb40",
   "metadata": {},
   "outputs": [
    {
     "name": "stdout",
     "output_type": "stream",
     "text": [
      "\u001b]777;preexec\u001b\\#!/bin/bash \n",
      "\n",
      "#Declare variable choice and assing value 4\n",
      "choice=4 \n",
      "\n",
      "#Print to stdout \n",
      "\n",
      "echo \"1. Bash\" \n",
      "echo \"2. Scripting\" \n",
      "echo \"3. Tutorial\" \n",
      "echo -n \"Please choose a word [1, 2 or 3]?\" \n",
      "# Loop while the variable choice is equal 4 \n",
      "# bash while loop \n",
      "\n",
      "while [ $choice -eq 4 ]; do \n",
      "# read user input \n",
      "read choice \n",
      "# bash nested if/else \n",
      "\tif [ $choice -eq 1 ]; then \n",
      "\t\techo \"You have chosen word: Bash\" \n",
      "\telse\n",
      "\tif [ $choice -eq 2 ]; then \n",
      "\t\techo \"You have chosen word: Scripting\" \n",
      "\telse \n",
      "\tif [ $choice -eq 3 ]; then \n",
      "\t\techo \"You have chosen word: Tutorial\" \n",
      "\telse\n",
      "\t\techo \"Please make a choice between 1-3 !\" \n",
      "\t\techo \"1. Bash\" \n",
      "\t\techo \"2. Scripting\" \n",
      "\t\techo \"3. Tutorial\" \n",
      "\t\techo -n \"Please choose a word [1,2 or 3]?\" \n",
      "\t\tchoice=4 \n",
      "    fi \n",
      "    fi \n",
      "    fi \n",
      "done \n",
      " \n"
     ]
    },
    {
     "ename": "",
     "evalue": "1",
     "output_type": "error",
     "traceback": []
    }
   ],
   "source": [
    "cat nested_if_else.sh"
   ]
  },
  {
   "cell_type": "markdown",
   "id": "7a77a350-c64a-4174-ab13-1c1b4cabb1e8",
   "metadata": {},
   "source": [
    "## **Arithmetic comparisons** \n",
    "\n",
    "* `-lt` <\n",
    "* `-gt` >\n",
    "* `-le` <=\n",
    "* `-ge` >=\n",
    "* `-eq` ==\n",
    "* `-ne` != "
   ]
  },
  {
   "cell_type": "code",
   "execution_count": 12,
   "id": "d28d5a76-950b-4b2e-9671-6ac04f6b978c",
   "metadata": {},
   "outputs": [
    {
     "name": "stdout",
     "output_type": "stream",
     "text": [
      "\u001b]777;preexec\u001b\\\n",
      "\u001b]777;preexec\u001b\\\n",
      "\u001b]777;preexec\u001b\\Both values are equal\n"
     ]
    },
    {
     "ename": "",
     "evalue": "1",
     "output_type": "error",
     "traceback": []
    }
   ],
   "source": [
    "# examples \n",
    "#!/bin/bash \n",
    "\n",
    "num1=2 \n",
    "num2=2 \n",
    "\n",
    "if [ $num1 -eq $num2 ]; then \n",
    "    echo \"Both values are equal\" \n",
    "else \n",
    "    echo \"Values are NOT equal\" \n",
    "fi "
   ]
  },
  {
   "cell_type": "markdown",
   "id": "03a65c9a-d569-406a-8f63-aa8e845225e6",
   "metadata": {},
   "source": [
    "## **String comparations** \n",
    "\n",
    "* `=` equal\n",
    "* `!=` not equal\n",
    "* `<` less then\n",
    "* `>` greater then "
   ]
  },
  {
   "cell_type": "markdown",
   "id": "72ebed52-6f68-4944-9730-7c4e5095c9b2",
   "metadata": {},
   "source": [
    "## **Bash file testing \n",
    "* `-b filename` Block special file \n",
    "* `-c filename` Special character file \n",
    "* `-d directory name` Check for directory existence \n",
    "* `-e filename` Check for file existence\n",
    "* `-G filename` Check for regular file existence not a directory\n",
    "* `-g filename` Check if file existes and is owned by effective group ID \n",
    "* `-k filename` True if file exist and is set-group-id. \n",
    "* `-L filename` Sticky bit \n",
    "* `-O filename` Simbolic link \n",
    "* `-r filename` True if file exists and is owned by the effective user id \n",
    "* `-S filename` Check if file is socket \n",
    "* `-s filaname` Check if file is nonzero size \n",
    "* `-u filename` Check if file set-ser-id bit is set \n",
    "* `-w filename` Check if file is writable \n",
    "* `-x filename` Check if file is executable"
   ]
  },
  {
   "cell_type": "code",
   "execution_count": 14,
   "id": "fe2b30f6-a8a5-4603-accf-a6dc8314fb20",
   "metadata": {},
   "outputs": [
    {
     "name": "stdout",
     "output_type": "stream",
     "text": [
      "\u001b]777;preexec\u001b\\\n",
      "\u001b]777;preexec\u001b\\File exists\n"
     ]
    },
    {
     "ename": "",
     "evalue": "1",
     "output_type": "error",
     "traceback": []
    }
   ],
   "source": [
    "#!/bin/bash \n",
    "file=\"cpu.txt\" \n",
    "if [ -e $file ]; then \n",
    "    echo \"File exists\" \n",
    "else \n",
    "    echo \"File does not exist\" \n",
    "fi "
   ]
  },
  {
   "cell_type": "code",
   "execution_count": 22,
   "id": "9f9d0c7d-869c-4bdb-9864-d1759820259d",
   "metadata": {},
   "outputs": [
    {
     "name": "stdout",
     "output_type": "stream",
     "text": [
      "\u001b]777;preexec\u001b\\\n",
      "\u001b]777;preexec\u001b\\3+5 = 8\n",
      "\u001b]777;preexec\u001b\\\n",
      "\u001b]777;preexec\u001b\\9%4 = 1\n",
      "\u001b]777;preexec\u001b\\\n",
      "\u001b]777;preexec\u001b\\2² = 4\n"
     ]
    },
    {
     "ename": "",
     "evalue": "1",
     "output_type": "error",
     "traceback": []
    }
   ],
   "source": [
    "## Maths operations in bash \n",
    "let addition=3+5 \n",
    "echo \"3+5 =\" $addition\n",
    "\n",
    "let modulus=9%4 \n",
    "echo \"9%4 =\" $modulus\n",
    "\n",
    "let power_two=2**2 \n",
    "\n",
    "echo \"2² =\" $power_two "
   ]
  },
  {
   "cell_type": "markdown",
   "id": "7918e1e9-aea3-4ee8-94ab-f1b6d62edd9a",
   "metadata": {},
   "source": [
    "## **Linux: Files system \n",
    "* Cada archivo del sistema tiene: dueño, un grupo y permisos\n",
    "* Permisos: lectura(r), Escritura(w) y ejecución (x)"
   ]
  },
  {
   "cell_type": "code",
   "execution_count": 23,
   "id": "4b1a9774-3f37-4c8e-b5eb-d2e96f9929cc",
   "metadata": {},
   "outputs": [
    {
     "name": "stdout",
     "output_type": "stream",
     "text": [
      "\u001b]777;preexec\u001b\\-rw-r--r--. 1 jpramosg jpramosg 290 Apr 21 15:14 cpu.txt\n"
     ]
    },
    {
     "ename": "",
     "evalue": "1",
     "output_type": "error",
     "traceback": []
    }
   ],
   "source": [
    "ls -l cpu.txt "
   ]
  },
  {
   "cell_type": "markdown",
   "id": "e10709de-569d-46ee-a60b-a93228838750",
   "metadata": {},
   "source": [
    "* `-(rw-)(r--)(r--)` dividimos en 4 grupos\n",
    "* El primer grupo indica el tipo de archivo (-), directorio (d)\n",
    "* El segundo grupo representa los permisos del propietario\n",
    "* El tercer grupo representa los permisos del grupo\n",
    "* Ulimo grupo representa los permisos del resto de usuarios\n",
    "* `1` canditada de enlaces fijos (hard links)\n",
    "* `jpramosg jpramosg` Propietario y el grupo propietario"
   ]
  },
  {
   "cell_type": "markdown",
   "id": "e9d2c685-bf21-48ce-891a-296609480243",
   "metadata": {},
   "source": [
    "## **chmod**\n",
    "\n",
    "* Leer, escribir y ejecutar estan representados por valores numéricos:\n",
    "* r (read)-4\n",
    "* w (write)-2\n",
    "* x (execute)-1\n",
    "\n",
    "`chmod 744` El propietario puede leer, escribir y ejecutar, el grupo y el resto de usuarios puede unicamente leer. "
   ]
  },
  {
   "cell_type": "markdown",
   "id": "67361f6a-9927-4645-acff-043dbbc59725",
   "metadata": {},
   "source": [
    "## **chown** \n",
    "Para cambiar el propietario de un archivo y una carpeta de linux \n",
    "\n",
    "* chown [propietario/grupo propietario][nombre del archivo]\n",
    "* ejemplo: `chown nuevo_propietario miarchivo.txt`\n",
    "\n",
    "Para cambiar el grupo propietario \n",
    "* `chown :nuevo_grupo miarchivo.txt`\n",
    "\n",
    "Para cambiar el propietario y el grupo al mismo tiempo \n",
    "* `chown nuevo_propietario:nuevo_grupo miarchivo.txt` \n",
    "\n",
    "\n",
    "**Nota**: Una de las opciones mas populares que puedes combinar con chmod y chown es -R (recursivo). Te permite cambiar los permisos o propietarios de todos los archivos y subdirectorios dentro de un directorio específico. \n",
    "\n",
    "* ejemplo: `chmod -R 755 /etc/misarchivos`"
   ]
  },
  {
   "cell_type": "markdown",
   "id": "18bde414-47cf-46f8-a596-f49c9fee6ba2",
   "metadata": {},
   "source": [
    "## **top** \n",
    "* `-k` : Finaliza un proceso \n",
    "* `-M` : Ordena la lista por uso de memoria \n",
    "* `-N` : Ordena la lista por PID \n",
    "* `-r` : Cambia la prioridad de un proceso \n",
    "* `-h` : Muestra la ventana de ayuda \n",
    "* `-z` : Muestra los procesos en ejecucion en colores \n",
    "* `-d` : Cambia el intervalo de tiempo de actualización \n",
    "* `-c` : Muestra la ruta absoluta de un proceso \n",
    "\n",
    "k"
   ]
  },
  {
   "cell_type": "code",
   "execution_count": null,
   "id": "46d66e00-97d8-46a1-bd91-451594b8fbbb",
   "metadata": {},
   "outputs": [],
   "source": [
    "top "
   ]
  }
 ],
 "metadata": {
  "kernelspec": {
   "display_name": "Bash",
   "language": "bash",
   "name": "bash"
  },
  "language_info": {
   "codemirror_mode": "shell",
   "file_extension": ".sh",
   "mimetype": "text/x-sh",
   "name": "bash"
  }
 },
 "nbformat": 4,
 "nbformat_minor": 5
}

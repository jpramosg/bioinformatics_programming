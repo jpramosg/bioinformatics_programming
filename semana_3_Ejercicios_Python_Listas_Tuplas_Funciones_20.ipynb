{
  "cells": [
    {
      "cell_type": "markdown",
      "id": "d794c7a7",
      "metadata": {
        "id": "d794c7a7"
      },
      "source": [
        "# 🐍 Ejercicios de Python: Listas, Tuplas y Funciones"
      ]
    },
    {
      "cell_type": "markdown",
      "id": "71b5a1b8",
      "metadata": {
        "id": "71b5a1b8"
      },
      "source": [
        "Este notebook contiene más de 20 ejercicios prácticos para afianzar tus conocimientos sobre **listas**, **tuplas**, y **funciones** en Python."
      ]
    },
    {
      "cell_type": "markdown",
      "id": "02276e6f",
      "metadata": {
        "id": "02276e6f"
      },
      "source": [
        "## 📋 Listas"
      ]
    },
    {
      "cell_type": "markdown",
      "id": "4a64420b",
      "metadata": {
        "id": "4a64420b"
      },
      "source": [
        "### Ejercicio 1"
      ]
    },
    {
      "cell_type": "markdown",
      "id": "9f2d3c70",
      "metadata": {
        "id": "9f2d3c70"
      },
      "source": [
        "Crea una lista con los números del 1 al 20. Imprime solo los números pares."
      ]
    },
    {
      "cell_type": "code",
      "execution_count": null,
      "id": "25b106c2",
      "metadata": {
        "colab": {
          "base_uri": "https://localhost:8080/"
        },
        "id": "25b106c2",
        "outputId": "56fc6f7a-1903-410a-8212-2e5dd635252c"
      },
      "outputs": [
        {
          "output_type": "stream",
          "name": "stdout",
          "text": [
            "2\n",
            "4\n",
            "6\n",
            "8\n",
            "10\n",
            "12\n",
            "14\n",
            "16\n",
            "18\n",
            "20\n",
            "[1, 2, 3, 4, 5, 6, 7, 8, 9, 10, 11, 12, 13, 14, 15, 16, 17, 18, 19, 20]\n"
          ]
        }
      ],
      "source": [
        "numeros = list(range(1, 21))\n",
        "lista = []\n",
        "for num in numeros:\n",
        "  lista.append(num)\n",
        "  if num % 2 == 0:\n",
        "    print(num)\n",
        "print (lista)"
      ]
    },
    {
      "cell_type": "markdown",
      "id": "9613f0f3",
      "metadata": {
        "id": "9613f0f3"
      },
      "source": [
        "### Ejercicio 2"
      ]
    },
    {
      "cell_type": "markdown",
      "id": "a49568f6",
      "metadata": {
        "id": "a49568f6"
      },
      "source": [
        "Calcula la suma total de los elementos en la lista `[4, 7, 1, 42, 8]`."
      ]
    },
    {
      "cell_type": "code",
      "execution_count": null,
      "id": "5de3fcd6",
      "metadata": {
        "colab": {
          "base_uri": "https://localhost:8080/"
        },
        "id": "5de3fcd6",
        "outputId": "6c727293-6874-4f96-a8ec-57677da4f5ff"
      },
      "outputs": [
        {
          "output_type": "stream",
          "name": "stdout",
          "text": [
            "62\n"
          ]
        }
      ],
      "source": [
        "lista = [4, 7, 1, 42, 8]\n",
        "suma = 0\n",
        "for num in lista:\n",
        "  suma = suma + num\n",
        "print (suma)\n",
        "# Tu código aquí"
      ]
    },
    {
      "cell_type": "markdown",
      "id": "e8362705",
      "metadata": {
        "id": "e8362705"
      },
      "source": [
        "### Ejercicio 3"
      ]
    },
    {
      "cell_type": "markdown",
      "id": "90567a8b",
      "metadata": {
        "id": "90567a8b"
      },
      "source": [
        "Agrega el número 99 al final de la lista `[1, 2, 3]`."
      ]
    },
    {
      "cell_type": "code",
      "execution_count": null,
      "id": "cd3a858d",
      "metadata": {
        "colab": {
          "base_uri": "https://localhost:8080/"
        },
        "id": "cd3a858d",
        "outputId": "82df0ec7-514e-40e7-b57d-14fea75d7416"
      },
      "outputs": [
        {
          "output_type": "stream",
          "name": "stdout",
          "text": [
            "[1, 2, 3, 99]\n"
          ]
        }
      ],
      "source": [
        "lista = [1, 2, 3]\n",
        "lista.append(99)\n",
        "print (lista)\n",
        "# Tu código aquí"
      ]
    },
    {
      "cell_type": "markdown",
      "id": "aca224f7",
      "metadata": {
        "id": "aca224f7"
      },
      "source": [
        "### Ejercicio 4"
      ]
    },
    {
      "cell_type": "markdown",
      "id": "470892de",
      "metadata": {
        "id": "470892de"
      },
      "source": [
        "Invierte la lista `[5, 10, 15, 20]` sin usar `reverse()`."
      ]
    },
    {
      "cell_type": "code",
      "execution_count": null,
      "id": "26189762",
      "metadata": {
        "colab": {
          "base_uri": "https://localhost:8080/"
        },
        "id": "26189762",
        "outputId": "21ef0e7e-f627-484e-d2c8-759cd26ba737"
      },
      "outputs": [
        {
          "output_type": "stream",
          "name": "stdout",
          "text": [
            "[20, 15, 10, 5]\n"
          ]
        }
      ],
      "source": [
        "lista = [5, 10, 15, 20]\n",
        "lista_inverse = []\n",
        "\n",
        "for i in range(len(lista) -1, -1, -1):\n",
        "  lista_inverse.append(lista[i])\n",
        "print (lista_inverse)"
      ]
    },
    {
      "cell_type": "markdown",
      "id": "6b720c73",
      "metadata": {
        "id": "6b720c73"
      },
      "source": [
        "### Ejercicio 5"
      ]
    },
    {
      "cell_type": "markdown",
      "id": "7d3e1d6d",
      "metadata": {
        "id": "7d3e1d6d"
      },
      "source": [
        "Elimina todos los elementos duplicados de la lista `[1, 2, 2, 3, 3, 3, 4]`."
      ]
    },
    {
      "cell_type": "code",
      "source": [
        "# prompt: elimina todos los elementos duplicados de una lista utilizando pop y bucle for\n",
        "\n",
        "def remove_duplicates(input_list):\n",
        "    unique_list = []\n",
        "    for item in input_list:\n",
        "        if item not in unique_list:\n",
        "            unique_list.append(item)\n",
        "        else:\n",
        "            # Simulate pop behavior without modifying original list\n",
        "            pass\n",
        "    return unique_list\n",
        "\n",
        "lista = [1, 2, 2, 3, 3, 3, 4]\n",
        "\n",
        "# Tu código aquí\n",
        "#lista = [1, 2, 2, 3, 3, 3, 4]\n",
        "#lista_sin_duplicados = remove_duplicates(lista)\n",
        "#lista_sin_duplicados\n"
      ],
      "metadata": {
        "id": "t43Of7QbEC6p"
      },
      "id": "t43Of7QbEC6p",
      "execution_count": null,
      "outputs": []
    },
    {
      "cell_type": "code",
      "execution_count": null,
      "id": "5c3be5c6",
      "metadata": {
        "colab": {
          "base_uri": "https://localhost:8080/"
        },
        "id": "5c3be5c6",
        "outputId": "706f06a6-969a-475e-fb39-1cb558e5380e"
      },
      "outputs": [
        {
          "output_type": "stream",
          "name": "stdout",
          "text": [
            "[1, 2, 3, 4]\n",
            "[1, 2, 3, 4]\n"
          ]
        }
      ],
      "source": [
        "## solve this proble with method for.\n",
        "lista = [1, 2, 2, 3, 3, 3, 4]\n",
        "lista_sin_repes = []\n",
        "i = 0\n",
        "\n",
        "while i < len(lista) - 1:\n",
        "    if lista[i] == lista[i + 1]:\n",
        "        lista.pop(i + 1)  # remove the duplicate (not the original)\n",
        "    else:\n",
        "        i += 1  # only move to next index if no duplicate was removed\n",
        "\n",
        "print(lista)\n",
        "\n",
        "for i in range(len(lista)):\n",
        "    if i == 0 or lista[i] != lista[i - 1]:\n",
        "        lista_sin_repes.append(lista[i])\n",
        "\n",
        "print(lista_sin_repes)\n"
      ]
    },
    {
      "cell_type": "markdown",
      "id": "f5f5571d",
      "metadata": {
        "id": "f5f5571d"
      },
      "source": [
        "### Ejercicio 6"
      ]
    },
    {
      "cell_type": "markdown",
      "id": "967244e5",
      "metadata": {
        "id": "967244e5"
      },
      "source": [
        "Imprime solo los elementos mayores a 10 en la lista `[4, 11, 32, 7, 2]`."
      ]
    },
    {
      "cell_type": "code",
      "execution_count": null,
      "id": "013eccca",
      "metadata": {
        "colab": {
          "base_uri": "https://localhost:8080/"
        },
        "id": "013eccca",
        "outputId": "5b7d64db-5d6b-4632-eb4d-ac44b346f4d3"
      },
      "outputs": [
        {
          "output_type": "stream",
          "name": "stdout",
          "text": [
            "11\n",
            "32\n"
          ]
        }
      ],
      "source": [
        "lista = [4, 11, 32, 7, 2]\n",
        "for num in lista:\n",
        "  if num > 10:\n",
        "    print (num)\n",
        "# Tu código aquí"
      ]
    },
    {
      "cell_type": "markdown",
      "id": "c9f13276",
      "metadata": {
        "id": "c9f13276"
      },
      "source": [
        "### Ejercicio 7"
      ]
    },
    {
      "cell_type": "markdown",
      "id": "b81fb8d6",
      "metadata": {
        "id": "b81fb8d6"
      },
      "source": [
        "Cuenta cuántas veces aparece el número 3 en la lista `[3, 1, 3, 5, 3, 7]`."
      ]
    },
    {
      "cell_type": "code",
      "execution_count": null,
      "id": "c9b13623",
      "metadata": {
        "colab": {
          "base_uri": "https://localhost:8080/"
        },
        "id": "c9b13623",
        "outputId": "c33206c5-7cd4-41aa-88af-b4b052af8223"
      },
      "outputs": [
        {
          "output_type": "stream",
          "name": "stdout",
          "text": [
            "3\n"
          ]
        }
      ],
      "source": [
        "lista = [3, 1, 3, 5, 3, 7]\n",
        "contador = 0\n",
        "for num in lista:\n",
        "  if num == 3:\n",
        "    contador = contador + 1\n",
        "print (contador)\n",
        "# Tu código aquí"
      ]
    },
    {
      "cell_type": "markdown",
      "id": "d2ba4e7b",
      "metadata": {
        "id": "d2ba4e7b"
      },
      "source": [
        "### Ejercicio 8"
      ]
    },
    {
      "cell_type": "markdown",
      "id": "a63c6029",
      "metadata": {
        "id": "a63c6029"
      },
      "source": [
        "Ordena la lista `[9, 3, 6, 1]` en orden ascendente sin usar `sort()`."
      ]
    },
    {
      "cell_type": "code",
      "execution_count": null,
      "id": "e66a2dcf",
      "metadata": {
        "colab": {
          "base_uri": "https://localhost:8080/"
        },
        "id": "e66a2dcf",
        "outputId": "3dabc600-33cb-4fb9-95a5-61067d3a83ca"
      },
      "outputs": [
        {
          "output_type": "stream",
          "name": "stdout",
          "text": [
            "[1, 3, 6, 9]\n"
          ]
        }
      ],
      "source": [
        "lista = [9, 3, 6, 1]\n",
        "for i in range(len(lista)):\n",
        "  for j in range(i + 1, len(lista)):\n",
        "    if lista[i] > lista[j]:\n",
        "      lista[i], lista[j] = lista[j], lista[i]\n",
        "print (lista)"
      ]
    },
    {
      "cell_type": "markdown",
      "id": "4e884351",
      "metadata": {
        "id": "4e884351"
      },
      "source": [
        "## 📦 Tuplas"
      ]
    },
    {
      "cell_type": "markdown",
      "id": "ff82ab6f",
      "metadata": {
        "id": "ff82ab6f"
      },
      "source": [
        "### Ejercicio 9"
      ]
    },
    {
      "cell_type": "markdown",
      "id": "68348599",
      "metadata": {
        "id": "68348599"
      },
      "source": [
        "Imprime las posiciones donde aparece el número 3 en la tupla `(3, 6, 3, 9, 3, 12)`."
      ]
    },
    {
      "cell_type": "code",
      "execution_count": null,
      "id": "ac2900db",
      "metadata": {
        "id": "ac2900db"
      },
      "outputs": [],
      "source": [
        "mi_tupla = (3, 6, 3, 9, 3, 12)\n",
        "# Tu código aquí\n"
      ]
    },
    {
      "cell_type": "code",
      "source": [
        "for i in range(len(mi_tupla)):\n",
        "  if mi_tupla[i] == 3:\n",
        "    print (i)"
      ],
      "metadata": {
        "colab": {
          "base_uri": "https://localhost:8080/"
        },
        "id": "Ywz82Rp72rhp",
        "outputId": "c7a55ecd-8345-485a-bdf4-63fcf13efb92"
      },
      "id": "Ywz82Rp72rhp",
      "execution_count": null,
      "outputs": [
        {
          "output_type": "stream",
          "name": "stdout",
          "text": [
            "0\n",
            "2\n",
            "4\n"
          ]
        }
      ]
    },
    {
      "cell_type": "markdown",
      "id": "27b33bf3",
      "metadata": {
        "id": "27b33bf3"
      },
      "source": [
        "### Ejercicio 10"
      ]
    },
    {
      "cell_type": "markdown",
      "id": "b27f1704",
      "metadata": {
        "id": "b27f1704"
      },
      "source": [
        "Convierte la lista `[1, 2, 2, 3, 3, 3]` a una tupla sin duplicados."
      ]
    },
    {
      "cell_type": "code",
      "execution_count": null,
      "id": "7caaa8d2",
      "metadata": {
        "colab": {
          "base_uri": "https://localhost:8080/"
        },
        "id": "7caaa8d2",
        "outputId": "6cd0c85a-8b4e-47e2-c033-36ac1efc4213"
      },
      "outputs": [
        {
          "output_type": "stream",
          "name": "stdout",
          "text": [
            "(1, 2, 3)\n"
          ]
        }
      ],
      "source": [
        "lista = [1, 2, 2, 3, 3, 3]\n",
        "\n",
        "unique_list = []\n",
        "for item in lista:\n",
        "  if item not in unique_list:\n",
        "    unique_list.append(item)\n",
        "\n",
        "print(tuple(unique_list))"
      ]
    },
    {
      "cell_type": "markdown",
      "id": "00d9ede8",
      "metadata": {
        "id": "00d9ede8"
      },
      "source": [
        "### Ejercicio 11"
      ]
    },
    {
      "cell_type": "markdown",
      "id": "297576bf",
      "metadata": {
        "id": "297576bf"
      },
      "source": [
        "Accede al tercer elemento de la tupla `(10, 20, 30, 40)`."
      ]
    },
    {
      "cell_type": "code",
      "execution_count": null,
      "id": "3911a7e3",
      "metadata": {
        "colab": {
          "base_uri": "https://localhost:8080/"
        },
        "id": "3911a7e3",
        "outputId": "49765d74-3267-4199-9ebf-ef0f141a0388"
      },
      "outputs": [
        {
          "output_type": "stream",
          "name": "stdout",
          "text": [
            "30\n"
          ]
        }
      ],
      "source": [
        "mi_tupla = (10, 20, 30, 40)\n",
        "# Tu código aquí\n",
        "print (mi_tupla[2])"
      ]
    },
    {
      "cell_type": "markdown",
      "id": "9b9a898a",
      "metadata": {
        "id": "9b9a898a"
      },
      "source": [
        "### Ejercicio 12"
      ]
    },
    {
      "cell_type": "markdown",
      "id": "f3349ad9",
      "metadata": {
        "id": "f3349ad9"
      },
      "source": [
        "Verifica si el número 7 está en la tupla `(1, 3, 5, 7, 9)`."
      ]
    },
    {
      "cell_type": "code",
      "execution_count": null,
      "id": "c0599419",
      "metadata": {
        "colab": {
          "base_uri": "https://localhost:8080/"
        },
        "id": "c0599419",
        "outputId": "c1159bdd-df76-4cc1-c399-86e4e5f5d602"
      },
      "outputs": [
        {
          "output_type": "stream",
          "name": "stdout",
          "text": [
            "True\n"
          ]
        }
      ],
      "source": [
        "mi_tupla = (1, 3, 5, 7, 9)\n",
        "# Tu código aquí\n",
        "for value in mi_tupla:\n",
        "  if value == 7:\n",
        "    print (True)\n",
        "    break"
      ]
    },
    {
      "cell_type": "markdown",
      "id": "b9ad0326",
      "metadata": {
        "id": "b9ad0326"
      },
      "source": [
        "## 🔧 Funciones"
      ]
    },
    {
      "cell_type": "markdown",
      "id": "a03828be",
      "metadata": {
        "id": "a03828be"
      },
      "source": [
        "### Ejercicio 13"
      ]
    },
    {
      "cell_type": "markdown",
      "id": "66eedee4",
      "metadata": {
        "id": "66eedee4"
      },
      "source": [
        "Crea una función `suma_lista(lista)` que devuelva la suma de los elementos de una lista."
      ]
    },
    {
      "cell_type": "code",
      "execution_count": null,
      "id": "de8ab8cc",
      "metadata": {
        "colab": {
          "base_uri": "https://localhost:8080/"
        },
        "id": "de8ab8cc",
        "outputId": "075095d3-fecd-4318-f645-128aa8ca50a1"
      },
      "outputs": [
        {
          "output_type": "execute_result",
          "data": {
            "text/plain": [
              "15"
            ]
          },
          "metadata": {},
          "execution_count": 47
        }
      ],
      "source": [
        "def suma_lista(lista):\n",
        "\n",
        "    # Tu código aquí\n",
        "    suma = 0\n",
        "    for num in lista:\n",
        "      suma = suma + num\n",
        "    return suma\n",
        "lista = [1, 2, 3, 4, 5]\n",
        "suma_lista(lista)"
      ]
    },
    {
      "cell_type": "markdown",
      "id": "f1bd0ed1",
      "metadata": {
        "id": "f1bd0ed1"
      },
      "source": [
        "### Ejercicio 14"
      ]
    },
    {
      "cell_type": "markdown",
      "id": "fd608df8",
      "metadata": {
        "id": "fd608df8"
      },
      "source": [
        "Crea una función que verifique si un número está en una tupla."
      ]
    },
    {
      "cell_type": "code",
      "execution_count": null,
      "id": "bf64fea7",
      "metadata": {
        "colab": {
          "base_uri": "https://localhost:8080/"
        },
        "id": "bf64fea7",
        "outputId": "3def13dc-187d-4fae-c590-f0ff9964b971"
      },
      "outputs": [
        {
          "output_type": "execute_result",
          "data": {
            "text/plain": [
              "False"
            ]
          },
          "metadata": {},
          "execution_count": 52
        }
      ],
      "source": [
        "def esta_en_tupla(tupla, numero):\n",
        "    # Tu código aquí\n",
        "    for element in tupla:\n",
        "      if element == numero:\n",
        "        return True\n",
        "      else:\n",
        "        return False\n",
        "    pass\n",
        "\n",
        "tupla = (1, 2, 3, 4, 5)\n",
        "numero = 6\n",
        "esta_en_tupla(tupla, numero)"
      ]
    },
    {
      "cell_type": "markdown",
      "id": "03fcd76d",
      "metadata": {
        "id": "03fcd76d"
      },
      "source": [
        "### Ejercicio 15"
      ]
    },
    {
      "cell_type": "markdown",
      "id": "b7f9c9bc",
      "metadata": {
        "id": "b7f9c9bc"
      },
      "source": [
        "Crea una función que devuelva el mayor de tres números."
      ]
    },
    {
      "cell_type": "code",
      "execution_count": null,
      "id": "134c7f94",
      "metadata": {
        "colab": {
          "base_uri": "https://localhost:8080/"
        },
        "id": "134c7f94",
        "outputId": "94b9ac24-3cf1-4c20-b2fd-cc1c957b0d33"
      },
      "outputs": [
        {
          "output_type": "execute_result",
          "data": {
            "text/plain": [
              "4"
            ]
          },
          "metadata": {},
          "execution_count": 62
        }
      ],
      "source": [
        "def max_de_tres(a, b, c):\n",
        "    # Tu código aquí\n",
        "    if a > b and a > c:\n",
        "      return a\n",
        "    elif b > a and b > c:\n",
        "      return b\n",
        "    else:\n",
        "      return c\n",
        "    pass\n",
        "max_de_tres(1, 4, 2)\n"
      ]
    },
    {
      "cell_type": "markdown",
      "id": "6355a0e4",
      "metadata": {
        "id": "6355a0e4"
      },
      "source": [
        "### Ejercicio 16"
      ]
    },
    {
      "cell_type": "markdown",
      "id": "9ada6a20",
      "metadata": {
        "id": "9ada6a20"
      },
      "source": [
        "Crea una función que reciba una lista de nombres y los imprima uno por uno."
      ]
    },
    {
      "cell_type": "code",
      "execution_count": null,
      "id": "2ab80727",
      "metadata": {
        "colab": {
          "base_uri": "https://localhost:8080/"
        },
        "id": "2ab80727",
        "outputId": "bd76c098-0ff5-4629-bff7-36673fbe9370"
      },
      "outputs": [
        {
          "output_type": "stream",
          "name": "stdout",
          "text": [
            "Juan\n",
            "Pedro\n",
            "Pablo\n"
          ]
        }
      ],
      "source": [
        "def imprimir_nombres(lista):\n",
        "    if type (lista)  == list:\n",
        "      for indices in range(len(lista)):\n",
        "        print(lista[indices])\n",
        "    else:\n",
        "      print(\"No es una lista\")\n",
        "lista = [\"Juan\", \"Pedro\", \"Pablo\"]\n",
        "\n",
        "#print(type(lista))\n",
        "imprimir_nombres(lista)"
      ]
    },
    {
      "cell_type": "markdown",
      "id": "5821ade1",
      "metadata": {
        "id": "5821ade1"
      },
      "source": [
        "### Ejercicio 17"
      ]
    },
    {
      "cell_type": "markdown",
      "id": "b2e6873c",
      "metadata": {
        "id": "b2e6873c"
      },
      "source": [
        "Crea una función que reciba una lista y devuelva una nueva con los elementos al cuadrado."
      ]
    },
    {
      "cell_type": "code",
      "execution_count": null,
      "id": "73e95ce4",
      "metadata": {
        "colab": {
          "base_uri": "https://localhost:8080/"
        },
        "id": "73e95ce4",
        "outputId": "4e631803-2ece-4181-8df8-89b87404770b"
      },
      "outputs": [
        {
          "output_type": "execute_result",
          "data": {
            "text/plain": [
              "[1, 4, 9, 16, 25]"
            ]
          },
          "metadata": {},
          "execution_count": 73
        }
      ],
      "source": [
        "def cuadrados(lista):\n",
        "  if type (lista) == list:\n",
        "    lista_cuadrados = []\n",
        "    for num in lista:\n",
        "      lista_cuadrados.append(num**2)\n",
        "    return lista_cuadrados\n",
        "  else:\n",
        "    print(\"No es una lista\")\n",
        "\n",
        "    # Tu código aquí\n",
        "    pass\n",
        "\n",
        "lista = [1, 2, 3, 4, 5]\n",
        "cuadrados(lista)"
      ]
    },
    {
      "cell_type": "markdown",
      "id": "36286a19",
      "metadata": {
        "id": "36286a19"
      },
      "source": [
        "### Ejercicio 18"
      ]
    },
    {
      "cell_type": "markdown",
      "id": "bc2a7671",
      "metadata": {
        "id": "bc2a7671"
      },
      "source": [
        "Crea una función que reciba una lista y devuelva otra lista con solo los números pares."
      ]
    },
    {
      "cell_type": "code",
      "execution_count": null,
      "id": "ae0677d4",
      "metadata": {
        "colab": {
          "base_uri": "https://localhost:8080/"
        },
        "id": "ae0677d4",
        "outputId": "be20292a-9fac-4109-c6a1-001544b95734"
      },
      "outputs": [
        {
          "output_type": "execute_result",
          "data": {
            "text/plain": [
              "[2, 4, 6, 8, 10]"
            ]
          },
          "metadata": {},
          "execution_count": 75
        }
      ],
      "source": [
        "def filtrar_pares(lista):\n",
        "  # Tu código aquí\n",
        "  if type (lista) == list:\n",
        "    lista_pares = []\n",
        "    for index in range(len(lista)):\n",
        "      if lista[index] % 2 == 0:\n",
        "        lista_pares.append(lista[index])\n",
        "    return lista_pares\n",
        "  else:\n",
        "    print(\"No es una lista\")\n",
        "\n",
        "lista = [1, 2, 3, 4, 5, 6, 7, 8, 9, 10]\n",
        "filtrar_pares(lista)"
      ]
    },
    {
      "cell_type": "markdown",
      "id": "dc9ca670",
      "metadata": {
        "id": "dc9ca670"
      },
      "source": [
        "### Ejercicio 19"
      ]
    },
    {
      "cell_type": "markdown",
      "id": "42a45acf",
      "metadata": {
        "id": "42a45acf"
      },
      "source": [
        "Crea una función que reciba una cadena y devuelva `True` si es un palíndromo."
      ]
    },
    {
      "cell_type": "code",
      "execution_count": null,
      "id": "33dbbc65",
      "metadata": {
        "colab": {
          "base_uri": "https://localhost:8080/"
        },
        "id": "33dbbc65",
        "outputId": "ca4a4bdd-5551-4485-8b8f-cb8de4ea90ff"
      },
      "outputs": [
        {
          "output_type": "execute_result",
          "data": {
            "text/plain": [
              "True"
            ]
          },
          "metadata": {},
          "execution_count": 82
        }
      ],
      "source": [
        "def es_palindromo(cadena):\n",
        "  # Tu código aquí\n",
        "  if cadena == cadena[::-1]:\n",
        "    return True\n",
        "  else:\n",
        "    return False\n",
        "    pass\n",
        "cadena = \"reconocer\"\n",
        "es_palindromo(cadena)"
      ]
    },
    {
      "cell_type": "markdown",
      "id": "d6e54c2d",
      "metadata": {
        "id": "d6e54c2d"
      },
      "source": [
        "### Ejercicio 20"
      ]
    },
    {
      "cell_type": "markdown",
      "id": "6a41840e",
      "metadata": {
        "id": "6a41840e"
      },
      "source": [
        "Crea una función que reciba una lista y devuelva el promedio de los valores."
      ]
    },
    {
      "cell_type": "code",
      "execution_count": null,
      "id": "8e471b53",
      "metadata": {
        "colab": {
          "base_uri": "https://localhost:8080/"
        },
        "id": "8e471b53",
        "outputId": "6dad0758-1aab-42d5-b927-044297afb49e"
      },
      "outputs": [
        {
          "output_type": "execute_result",
          "data": {
            "text/plain": [
              "3.0"
            ]
          },
          "metadata": {},
          "execution_count": 81
        }
      ],
      "source": [
        "def promedio(lista):\n",
        "    # Tu código aquí\n",
        "    suma = 0\n",
        "    for num in lista:\n",
        "      suma = suma + num\n",
        "    return suma / len(lista)\n",
        "    pass\n",
        "lista = [1, 2, 3, 4, 5]\n",
        "promedio(lista)"
      ]
    }
  ],
  "metadata": {
    "colab": {
      "provenance": []
    },
    "language_info": {
      "name": "python"
    },
    "kernelspec": {
      "name": "python3",
      "display_name": "Python 3"
    }
  },
  "nbformat": 4,
  "nbformat_minor": 5
}
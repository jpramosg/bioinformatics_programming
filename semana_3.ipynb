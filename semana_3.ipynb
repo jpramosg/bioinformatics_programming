{
  "nbformat": 4,
  "nbformat_minor": 0,
  "metadata": {
    "colab": {
      "provenance": []
    },
    "kernelspec": {
      "name": "python3",
      "display_name": "Python 3"
    },
    "language_info": {
      "name": "python"
    }
  },
  "cells": [
    {
      "cell_type": "markdown",
      "source": [
        "# Control structure\n",
        "\n",
        "Condicional if-elif-else"
      ],
      "metadata": {
        "id": "AaaYDpSkBEun"
      }
    },
    {
      "cell_type": "code",
      "source": [
        "## if-else\n",
        "num = -5\n",
        "if num > 0:\n",
        "  print(\"The number is positive.\")\n",
        "else:\n",
        "  print(\"The number is negative.\")"
      ],
      "metadata": {
        "colab": {
          "base_uri": "https://localhost:8080/"
        },
        "id": "61wWxqOLBilU",
        "outputId": "f01fdfb3-8c21-465b-9a72-52732ec2cf2b"
      },
      "execution_count": null,
      "outputs": [
        {
          "output_type": "stream",
          "name": "stdout",
          "text": [
            "The number is negative.\n"
          ]
        }
      ]
    },
    {
      "cell_type": "code",
      "source": [
        "## elif\n",
        "score = 85\n",
        "if score >= 90:\n",
        "  grade = \"A\"\n",
        "elif score >= 80:\n",
        "  grade = \"B\"\n",
        "elif score >= 70:\n",
        "  grade = \"C\"\n",
        "elif score >= 60:\n",
        "  grade = \"D\"\n",
        "else: grade = \"F\"\n",
        "print(\"Your grade is:\", grade)"
      ],
      "metadata": {
        "colab": {
          "base_uri": "https://localhost:8080/"
        },
        "id": "Kp9RNVjIBxac",
        "outputId": "9ba99db5-fe21-4173-ea44-3c250e5dd849"
      },
      "execution_count": null,
      "outputs": [
        {
          "output_type": "stream",
          "name": "stdout",
          "text": [
            "Your grade is: B\n"
          ]
        }
      ]
    },
    {
      "cell_type": "markdown",
      "source": [
        "# Control structure\n",
        "* foor  \n",
        "* while\n",
        "* foreach"
      ],
      "metadata": {
        "id": "ngeSVa7LL4U5"
      }
    },
    {
      "cell_type": "code",
      "source": [
        "# While\n",
        "x = 1\n",
        "while x < 5:\n",
        "  print (x)\n",
        "  x += 1"
      ],
      "metadata": {
        "colab": {
          "base_uri": "https://localhost:8080/"
        },
        "id": "uC8MopmtMCKt",
        "outputId": "34b90d54-96c0-4957-c0a3-febef578701e"
      },
      "execution_count": null,
      "outputs": [
        {
          "output_type": "stream",
          "name": "stdout",
          "text": [
            "1\n",
            "2\n",
            "3\n",
            "4\n"
          ]
        }
      ]
    },
    {
      "cell_type": "code",
      "source": [
        "# For\n",
        "numeros = [18, 50, 90, -20, 100, 80, 37]\n",
        "for n in numeros:\n",
        "  print (n)\n",
        "\n",
        "# for in string\n",
        "palabra = \"Python\"\n",
        "\n",
        "for letra in palabra:\n",
        "  print(letra)"
      ],
      "metadata": {
        "colab": {
          "base_uri": "https://localhost:8080/"
        },
        "id": "TzVj0TDZMMh2",
        "outputId": "d9d70e29-97a5-4fb4-c716-cc9f733ddcc3"
      },
      "execution_count": null,
      "outputs": [
        {
          "output_type": "stream",
          "name": "stdout",
          "text": [
            "18\n",
            "50\n",
            "90\n",
            "-20\n",
            "100\n",
            "80\n",
            "37\n",
            "P\n",
            "y\n",
            "t\n",
            "h\n",
            "o\n",
            "n\n"
          ]
        }
      ]
    },
    {
      "cell_type": "markdown",
      "source": [
        "# Logical operators\n",
        "\n",
        "Logics operatorsm which include AND, OR and NOT, are essentials tools that allow you to combine booleans expressions to form more complex conditions.\n",
        "\n",
        "* and\n",
        "* or\n",
        "* not\n"
      ],
      "metadata": {
        "id": "FRj82l4oMk0q"
      }
    },
    {
      "cell_type": "markdown",
      "source": [
        "# Aritmetic operators\n",
        "* sum (+)\n",
        "* substract (-)\n",
        "* multiplication (*)\n",
        "* division (/)\n",
        "* integer division (//)\n",
        "* module (%)\n",
        "* power (**)\n"
      ],
      "metadata": {
        "id": "dFY2qlAFPzhF"
      }
    },
    {
      "cell_type": "markdown",
      "source": [
        "# Comparation operators\n",
        "* Equals to (==)\n",
        "* Not equals to (!=)\n",
        "* Greater than (>)\n",
        "* Less than (<)\n",
        "* Greater than or equal to (>=)\n",
        "* Less than or equal to (<=)\n"
      ],
      "metadata": {
        "id": "WRM-UCJ6O-nK"
      }
    },
    {
      "cell_type": "markdown",
      "source": [
        "# Recursivity\n",
        "Recursivity in a Python function refers to the function's ability to call itself within its own definition."
      ],
      "metadata": {
        "id": "VVWLxVfNQN3-"
      }
    },
    {
      "cell_type": "code",
      "source": [
        "def factorial(n):\n",
        "  if n == 0 or n == 1:\n",
        "    return 1\n",
        "  else:\n",
        "    return n * factorial(n-1)\n",
        "\n",
        "print(factorial(5))\n"
      ],
      "metadata": {
        "colab": {
          "base_uri": "https://localhost:8080/"
        },
        "id": "P8i1SJSJQbtB",
        "outputId": "07dfc955-1802-49a2-ee3f-b860a8bcc876"
      },
      "execution_count": null,
      "outputs": [
        {
          "output_type": "stream",
          "name": "stdout",
          "text": [
            "120\n"
          ]
        }
      ]
    },
    {
      "cell_type": "markdown",
      "source": [
        "# Data type\n",
        "\n",
        "* int (e.g. 5, -3, 0)\n",
        "* float (e.g. 134.45, -1.1764)\n",
        "* boolean (true, false)\n",
        "* string (\"Hola\")"
      ],
      "metadata": {
        "id": "SCY2ShDhRjgG"
      }
    },
    {
      "cell_type": "markdown",
      "source": [
        "# Functions in programation\n",
        "Functions are reusable blocks of code that perform a specific task. They help structure the program and avoid code duplication.\n",
        "\n",
        "**Parameters and return of values:**\n",
        "Functions often receive parameters that represent input data and can return results, facilitating interaction between differents parts of the program.  "
      ],
      "metadata": {
        "id": "PsqO5focSFyE"
      }
    },
    {
      "cell_type": "markdown",
      "source": [
        "#Data Structure in python\n",
        "\n",
        "* Lists: Lists are ordered and mutable collections of elements. They can be modified(add, delete or change elements) and can contain differents types of data  "
      ],
      "metadata": {
        "id": "0Pmi-ezDUWvD"
      }
    },
    {
      "cell_type": "code",
      "source": [
        "my_list = [1,2,3, \"Hola\", True]\n",
        "\n",
        "# common operations\n",
        "my_list.append(\"nuevo\")\n",
        "print(my_list)\n",
        "my_list[0] = 10\n",
        "print(my_list)\n",
        "print(my_list[2])\n",
        "my_list.remove(\"Hola\")\n",
        "print(my_list)"
      ],
      "metadata": {
        "colab": {
          "base_uri": "https://localhost:8080/"
        },
        "id": "PD6vLBz7U9nF",
        "outputId": "c81c6e35-1438-42ce-e913-670c1f4a77db"
      },
      "execution_count": null,
      "outputs": [
        {
          "output_type": "stream",
          "name": "stdout",
          "text": [
            "[1, 2, 3, 'Hola', True, 'nuevo']\n",
            "[10, 2, 3, 'Hola', True, 'nuevo']\n",
            "3\n",
            "[10, 2, 3, True, 'nuevo']\n"
          ]
        }
      ]
    },
    {
      "cell_type": "markdown",
      "source": [
        "* Tuples: Tuples are ordered but immutable collections, that is, they can't be modified once created."
      ],
      "metadata": {
        "id": "47Noh5OJVimh"
      }
    },
    {
      "cell_type": "code",
      "source": [
        "my_tuple = (1,2,3, \"Hola\")\n",
        "\n",
        "#common operations\n",
        "print(my_tuple[1])\n",
        "print(len(my_tuple))\n",
        "\"hola\" in my_tuple"
      ],
      "metadata": {
        "colab": {
          "base_uri": "https://localhost:8080/"
        },
        "id": "-gpR_owLWUDU",
        "outputId": "e21b5450-4ce0-4740-b2b7-70aba186e718"
      },
      "execution_count": null,
      "outputs": [
        {
          "output_type": "stream",
          "name": "stdout",
          "text": [
            "2\n",
            "4\n"
          ]
        },
        {
          "output_type": "execute_result",
          "data": {
            "text/plain": [
              "False"
            ]
          },
          "metadata": {},
          "execution_count": 16
        }
      ]
    },
    {
      "cell_type": "markdown",
      "source": [
        "* Dictionary: Dictionaries storage data in key:value pairs. They are mutables and unordered (Although in recent versions of python they preserve the insertion order)\n"
      ],
      "metadata": {
        "id": "o7nlvs8LWp76"
      }
    },
    {
      "cell_type": "code",
      "source": [
        "my_dict = {\n",
        "    \"persona 1\":{\n",
        "        \"nombre\": \"Ana\",\n",
        "        \"edad\" : 25,\n",
        "        \"correo\" : \"ana@example.com\"\n",
        "        },\n",
        "    \"persona 3\": {\n",
        "        \"nombre\" : \"Claudia\",\n",
        "        \"edad\" : 28,\n",
        "        \"correo\": \"claudia@example.com\"\n",
        "    }\n",
        "}\n",
        "\n",
        "for persona, valores in my_dict.items():\n",
        "  print(persona, valores)\n",
        "print(my_dict[\"persona 1\"])\n",
        "print(my_dict[\"persona 1\"][\"nombre\"])"
      ],
      "metadata": {
        "colab": {
          "base_uri": "https://localhost:8080/"
        },
        "id": "WHIW8EOuXvDt",
        "outputId": "95e3bc34-2471-47d7-d846-7c4c573d96c8"
      },
      "execution_count": null,
      "outputs": [
        {
          "output_type": "stream",
          "name": "stdout",
          "text": [
            "persona 1 {'nombre': 'Ana', 'edad': 25, 'correo': 'ana@example.com'}\n",
            "persona 3 {'nombre': 'Claudia', 'edad': 28, 'correo': 'claudia@example.com'}\n"
          ]
        }
      ]
    },
    {
      "cell_type": "code",
      "source": [
        "# prompt: do you can create to env bash for using command ?\n",
        "\n",
        "!echo \"export MY_VARIABLE='Hello from Colab'\"\n",
        "!ls\n",
        "!pwd"
      ],
      "metadata": {
        "colab": {
          "base_uri": "https://localhost:8080/"
        },
        "id": "U9MsUu-J1seO",
        "outputId": "22040d24-e400-4709-9c37-ab88ea19c94a"
      },
      "execution_count": null,
      "outputs": [
        {
          "output_type": "stream",
          "name": "stdout",
          "text": [
            "export MY_VARIABLE='Hello from Colab'\n",
            "sample_data\n",
            "/content\n"
          ]
        }
      ]
    },
    {
      "cell_type": "markdown",
      "source": [
        "# Data structure in python: Exercise\n",
        "1. Create a program that allows to register several students.\n",
        "2. Add at least 3 students to the dictionary\n",
        "3. Scrolls through the dictionay and prints the name and numbers of course taken by each student.\n",
        "4. Allows the user to consult a student's data by entering the student's password.  "
      ],
      "metadata": {
        "id": "q0beMgcmjD_q"
      }
    },
    {
      "cell_type": "code",
      "source": [
        "# Tasks:\n",
        "# number 1 and 2\n",
        "estudiantes = {\n",
        "    \"est1\": {\"nombre\": \"Ana\", \"edad\": 20, \"cursos\": [\"Matemáticas\", \"Física\"]},\n",
        "    \"est2\": {\"nombre\": \"Luis\", \"edad\": 22, \"cursos\": [\"Historia\", \"Literatura\"]},\n",
        "    \"est3\": {\"nombre\": \"Carlos\", \"edad\" :23, \"cursos\": [\"Biologia\", \"Química\"]}\n",
        "}\n",
        "# number 3\n",
        "for estudiante in estudiantes:\n",
        "  print(estudiantes[estudiante][\"nombre\"], \"tiene\", len(estudiantes[estudiante][\"cursos\"]), \"cursos\")\n",
        "  print(f'{estudiantes[estudiante][\"nombre\"]} tiene {len(estudiantes[estudiante][\"cursos\"])} cursos')\n",
        "\n",
        "#for key, value in estudiantes.items():\n",
        "  #print(key, value)\n",
        "\n"
      ],
      "metadata": {
        "colab": {
          "base_uri": "https://localhost:8080/"
        },
        "id": "7PKspnzBkozd",
        "outputId": "529e94e8-8626-4511-8a45-9b75cbf87ea6"
      },
      "execution_count": 10,
      "outputs": [
        {
          "output_type": "stream",
          "name": "stdout",
          "text": [
            "Ana tiene 2 cursos\n",
            "Ana tiene 2 cursos\n",
            "Luis tiene 2 cursos\n",
            "Luis tiene 2 cursos\n",
            "Carlos tiene 2 cursos\n",
            "Carlos tiene 2 cursos\n"
          ]
        }
      ]
    },
    {
      "cell_type": "code",
      "source": [
        "# number 4\n",
        "key_est = input(\"input key to consult: \")\n",
        "\n",
        "for key, value in estudiantes.items():\n",
        "  if key == key_est:\n",
        "    print (value)\n",
        "\n",
        "\n"
      ],
      "metadata": {
        "colab": {
          "base_uri": "https://localhost:8080/"
        },
        "id": "eDhS-6YWoPGt",
        "outputId": "9bca094e-ef69-42b5-af54-eff746b2a3fa"
      },
      "execution_count": 22,
      "outputs": [
        {
          "output_type": "stream",
          "name": "stdout",
          "text": [
            "input key to consult: est1\n",
            "{'nombre': 'Ana', 'edad': 20, 'cursos': ['Matemáticas', 'Física']}\n"
          ]
        }
      ]
    }
  ]
}
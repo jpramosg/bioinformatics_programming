{
  "nbformat": 4,
  "nbformat_minor": 0,
  "metadata": {
    "colab": {
      "provenance": []
    },
    "kernelspec": {
      "name": "python3",
      "display_name": "Python 3"
    },
    "language_info": {
      "name": "python"
    }
  },
  "cells": [
    {
      "cell_type": "markdown",
      "source": [
        "#**Programación para Doctorado de Bioinformática y Biología de Sistemas**\n",
        "\n",
        "## Clase 1: Introducción a python"
      ],
      "metadata": {
        "id": "I6lHTnIWe5pj"
      }
    },
    {
      "cell_type": "code",
      "execution_count": 1,
      "metadata": {
        "colab": {
          "base_uri": "https://localhost:8080/"
        },
        "id": "UAsHr4pPF1uJ",
        "outputId": "5e9c0d82-f86d-43ff-bbd8-5074e29065f4"
      },
      "outputs": [
        {
          "output_type": "stream",
          "name": "stdout",
          "text": [
            "Hello, World!\n"
          ]
        }
      ],
      "source": [
        "## Básicos de python\n",
        "\n",
        "print (\"Hello, World\")"
      ]
    },
    {
      "cell_type": "code",
      "source": [
        "# Variables y comentarios\n",
        "x = 5\n",
        "y = \"Hello, World!\"\n",
        "# comentarios\n"
      ],
      "metadata": {
        "id": "tNf9SZshj0JV"
      },
      "execution_count": null,
      "outputs": []
    },
    {
      "cell_type": "markdown",
      "source": [
        "Este es mi primer notebook de colab"
      ],
      "metadata": {
        "id": "GWkzBlTLHi0K"
      }
    },
    {
      "cell_type": "markdown",
      "source": [
        "# Python Data Types\n",
        "\n",
        "\n",
        "*   Text Type: str\n",
        "*   Numeric Types: int, float, complex\n",
        "*   Sequence Types: list, tuple, range\n",
        "*   Mapping Type: dict\n",
        "*   Set Types: set, frozenset\n",
        "*   Boolean Type: bool\n",
        "*   Binary Types: bytes, bytearray, memoryview\n",
        "*   NoneType\n",
        "\n",
        "\n"
      ],
      "metadata": {
        "id": "j2vRJP_qiwUt"
      }
    },
    {
      "cell_type": "markdown",
      "source": [
        "# Listas!\n",
        "\n",
        "Lists are one of 4 built-in data types in Python used to store collections of data, the other 3 are Dictionary, all with different qualities and usage."
      ],
      "metadata": {
        "id": "W_iM-Z-1j6rL"
      }
    },
    {
      "cell_type": "code",
      "source": [
        "# Lists are created using square brackets\n",
        "thislist = [\"apple\", \"banana\", \"cherry\"]\n",
        "print (thislist)"
      ],
      "metadata": {
        "colab": {
          "base_uri": "https://localhost:8080/"
        },
        "id": "T8nvQtFcLQUA",
        "outputId": "11b184bf-c3a2-4ae5-c78d-670b94366e73"
      },
      "execution_count": 2,
      "outputs": [
        {
          "output_type": "stream",
          "name": "stdout",
          "text": [
            "['apple', 'banana', 'cherry']\n"
          ]
        }
      ]
    },
    {
      "cell_type": "code",
      "source": [
        "# Manejo de Strings\n",
        "seq = \"ATCGACTACG\"\n",
        "print (seq[2:])"
      ],
      "metadata": {
        "colab": {
          "base_uri": "https://localhost:8080/"
        },
        "id": "manHDgM9k9rP",
        "outputId": "f2277eb1-4e48-422c-ac4f-ee60ce464890"
      },
      "execution_count": 5,
      "outputs": [
        {
          "output_type": "stream",
          "name": "stdout",
          "text": [
            "CGACTACG\n"
          ]
        }
      ]
    },
    {
      "cell_type": "code",
      "source": [
        "# Python Booleans\n",
        "# It helps us determine whether something is true or false:\n",
        "print (10 > 9)\n",
        "print (10 == 9)\n",
        "print (10 < 9)"
      ],
      "metadata": {
        "colab": {
          "base_uri": "https://localhost:8080/"
        },
        "id": "QL8jkFBglQPL",
        "outputId": "628fdbdb-f10f-4634-8d8f-54ad2fad2148"
      },
      "execution_count": 6,
      "outputs": [
        {
          "output_type": "stream",
          "name": "stdout",
          "text": [
            "True\n",
            "False\n",
            "False\n"
          ]
        }
      ]
    },
    {
      "cell_type": "markdown",
      "source": [
        "# If and else\n",
        "Python support the usual logical conditions from mathematics:\n",
        "* Equals: a == b\n",
        "* Not Equals: a != b\n",
        "* Less than: a < b\n",
        "* Less than or equal to: a <= b\n",
        "* Greater than: a > b\n",
        "* Greater than or equal to: a >= b\n"
      ],
      "metadata": {
        "id": "3CTarRh9lmU5"
      }
    },
    {
      "cell_type": "code",
      "source": [
        "a = 33\n",
        "b = 200\n",
        "if b > a:\n",
        "  print(\"b: is greater than a\")\n",
        ""
      ],
      "metadata": {
        "colab": {
          "base_uri": "https://localhost:8080/"
        },
        "id": "su1FDUJemPm6",
        "outputId": "807a9d78-9d5f-4a8e-b265-7afec7a48948"
      },
      "execution_count": 7,
      "outputs": [
        {
          "output_type": "stream",
          "name": "stdout",
          "text": [
            "b: is greater than a\n"
          ]
        }
      ]
    },
    {
      "cell_type": "markdown",
      "source": [
        "# Loops\n",
        "While and for loops, allow us to traverse and array"
      ],
      "metadata": {
        "id": "jThs0l3Xmj86"
      }
    },
    {
      "cell_type": "code",
      "source": [
        "i = 1\n",
        "while i < 6 :\n",
        "  print (i)\n",
        "  i += 1"
      ],
      "metadata": {
        "colab": {
          "base_uri": "https://localhost:8080/"
        },
        "id": "eoCpMt2Sm0Mn",
        "outputId": "c601398c-ea47-471b-fccc-0cfc6e28449f"
      },
      "execution_count": 8,
      "outputs": [
        {
          "output_type": "stream",
          "name": "stdout",
          "text": [
            "1\n",
            "2\n",
            "3\n",
            "4\n",
            "5\n"
          ]
        }
      ]
    },
    {
      "cell_type": "markdown",
      "source": [
        "# Functions\n",
        "A function is a block of code which only runs when it is called.\n",
        "You can pass data, known as parameters, into a function.\n",
        "A function can return data as a result."
      ],
      "metadata": {
        "id": "o_WTV-BDm-el"
      }
    },
    {
      "cell_type": "code",
      "source": [
        "def my_function ():\n",
        "  print (\"Hello from a function\")\n",
        "my_function()"
      ],
      "metadata": {
        "colab": {
          "base_uri": "https://localhost:8080/"
        },
        "id": "AZsRvrx3oWny",
        "outputId": "7cfe58df-f7fb-4511-af9a-4b2483f7936d"
      },
      "execution_count": 9,
      "outputs": [
        {
          "output_type": "stream",
          "name": "stdout",
          "text": [
            "Hello from a function\n"
          ]
        }
      ]
    },
    {
      "cell_type": "markdown",
      "source": [
        "# Activity 1\n",
        "What would we have to do to calculate in a DNA sequence the amount of A,T,C,G?\n"
      ],
      "metadata": {
        "id": "DYmg7jq0okAH"
      }
    },
    {
      "cell_type": "code",
      "source": [
        "seq = \"ATCGAAATTTTAAAAGC\"\n",
        "def calculate_bases (seq):\n",
        "  seq = seq.upper() # Convert the sequence to uppercase\n",
        "  count_A = 0\n",
        "  count_T = 0\n",
        "  count_C = 0\n",
        "  count_G = 0\n",
        "  for i in seq:\n",
        "    if i == \"A\":\n",
        "      count_A += 1\n",
        "    if i == \"T\":\n",
        "      count_T += 1\n",
        "    if i == \"C\":\n",
        "      count_C += 1\n",
        "    if i == \"G\":\n",
        "      count_G += 1\n",
        "  return count_A, count_T, count_C, count_G\n"
      ],
      "metadata": {
        "id": "ptWs4bi3pFD8"
      },
      "execution_count": 19,
      "outputs": []
    },
    {
      "cell_type": "code",
      "source": [
        "# Example usage\n",
        "counts = calculate_bases(seq)\n",
        "print(\"A:\", counts[0])\n",
        "print(\"T:\", counts[1])\n",
        "print(\"C:\", counts[2])\n",
        "print(\"G:\", counts[3])\n"
      ],
      "metadata": {
        "colab": {
          "base_uri": "https://localhost:8080/"
        },
        "id": "qe1GSyOcqmZu",
        "outputId": "12b6be48-7714-4dfe-ca11-9c317a238954"
      },
      "execution_count": 21,
      "outputs": [
        {
          "output_type": "stream",
          "name": "stdout",
          "text": [
            "A: 8\n",
            "T: 5\n",
            "C: 2\n",
            "G: 2\n"
          ]
        }
      ]
    },
    {
      "cell_type": "markdown",
      "source": [
        "# Activity 2\n",
        "\n",
        "\n",
        "1.   Generate a random DNA sequence of length N (Try length 50)\n",
        "2.   Count the number of each nucleotide in the sequence\n",
        "3.   Compare the expected probability of finding each nucleotide with the ratios in the sequence.\n",
        "\n"
      ],
      "metadata": {
        "id": "dekxxJn5rRX4"
      }
    },
    {
      "cell_type": "code",
      "source": [
        "import random\n",
        "\n",
        "def generate_random_dna(length):\n",
        "  \"\"\"Generates a random DNA sequence of specified length.\"\"\"\n",
        "  bases = [\"A\", \"T\", \"C\", \"G\"]\n",
        "  return \"\".join(random.choices(bases, k=50))\n",
        "# # or also works ''.join(random.choice(bases) for _ in range(length)) -->\n",
        "# generator expression\n",
        "\n",
        "generate_random_dna(50)"
      ],
      "metadata": {
        "colab": {
          "base_uri": "https://localhost:8080/",
          "height": 35
        },
        "id": "0IRVU_HSWH-l",
        "outputId": "f8c4ee4b-85d4-4c81-f4d5-c10e38c7a1af"
      },
      "execution_count": 26,
      "outputs": [
        {
          "output_type": "execute_result",
          "data": {
            "text/plain": [
              "'TCAAGCTGGTTACGTGTCCACGCACGGTGTGTGGGGGATCGTTGCATGGT'"
            ],
            "application/vnd.google.colaboratory.intrinsic+json": {
              "type": "string"
            }
          },
          "metadata": {},
          "execution_count": 26
        }
      ]
    },
    {
      "cell_type": "code",
      "source": [
        "def calculate_bases(seq):\n",
        "    \"\"\"Calculates the count of each nucleotide in the sequence.\"\"\"\n",
        "    seq = seq.upper()\n",
        "    counts = {'A': 0, 'T': 0, 'C': 0, 'G': 0}\n",
        "    for base in seq:\n",
        "        if base in counts:\n",
        "            counts[base] += 1\n",
        "    return counts\n",
        "#test function\n",
        "seq = generate_random_dna(50)\n",
        "f = calculate_bases(seq)\n",
        "for base, count in f.items():\n",
        "  print(f\"{base}: {count}\")"
      ],
      "metadata": {
        "colab": {
          "base_uri": "https://localhost:8080/"
        },
        "id": "dwq0RQ8yd9dP",
        "outputId": "02c38ad9-f743-45eb-bbee-19643c2cae2d"
      },
      "execution_count": 56,
      "outputs": [
        {
          "output_type": "execute_result",
          "data": {
            "text/plain": [
              "{'A': 17, 'T': 11, 'C': 9, 'G': 13}"
            ]
          },
          "metadata": {},
          "execution_count": 56
        }
      ]
    },
    {
      "cell_type": "code",
      "source": [
        "def compare_probabilities(seq):\n",
        "    \"\"\"Compares the observed nucleotide counts with expected probabilities.\"\"\"\n",
        "    expect = 0.25\n",
        "    probab_real = calculate_bases(seq)\n",
        "    total = len(seq)\n",
        "\n",
        "    print(\"Nucleotide Counts:\")\n",
        "    for base, count in probab_real.items():\n",
        "      print(f\"{base}: {count} ({(count/total):.4f})\")\n",
        "\n",
        "    print(f\"\\nExpected Probability for each base: {expect}\")\n",
        "\n",
        "\n",
        "\n",
        "compare_probabilities(seq)\n",
        "\n"
      ],
      "metadata": {
        "colab": {
          "base_uri": "https://localhost:8080/"
        },
        "id": "zOogEHVRgb4I",
        "outputId": "f64fa9fd-46d4-49f7-aa5e-c2dfcdc208d9"
      },
      "execution_count": 73,
      "outputs": [
        {
          "output_type": "stream",
          "name": "stdout",
          "text": [
            "Nucleotide Counts:\n",
            "A: 17 (0.3400)\n",
            "T: 11 (0.2200)\n",
            "C: 9 (0.1800)\n",
            "G: 13 (0.2600)\n",
            "\n",
            "Expected Probability for each base: 0.25\n"
          ]
        }
      ]
    },
    {
      "cell_type": "markdown",
      "source": [
        "# Activity 3\n",
        "\n",
        "1. Getting kmers of 3\n",
        "2. Save them in a list\n",
        "3. Translate to aminoacids"
      ],
      "metadata": {
        "id": "-9GkdHYxlAbS"
      }
    },
    {
      "cell_type": "code",
      "source": [
        "def translate_sequence(seq):\n",
        "    \"\"\"Translates a DNA sequence into an amino acid sequence.\n",
        "\n",
        "    Args:\n",
        "      seq: The DNA sequence as a string.\n",
        "\n",
        "    Returns:\n",
        "      The amino acid sequence as a string.\n",
        "    \"\"\"\n",
        "    codon_table = {\n",
        "        'ATA':'I', 'ATC':'I', 'ATT':'I', 'ATG':'M',\n",
        "        'ACA':'T', 'ACC':'T', 'ACG':'T', 'ACT':'T',\n",
        "        'AAC':'N', 'AAT':'N', 'AAA':'K', 'AAG':'K',\n",
        "        'AGC':'S', 'AGT':'S', 'AGA':'R', 'AGG':'R',\n",
        "        'CTA':'L', 'CTC':'L', 'CTG':'L', 'CTT':'L',\n",
        "        'CCA':'P', 'CCC':'P', 'CCG':'P', 'CCT':'P',\n",
        "        'CAC':'H', 'CAT':'H', 'CAA':'Q', 'CAG':'Q',\n",
        "        'CGA':'R', 'CGC':'R', 'CGG':'R', 'CGT':'R',\n",
        "        'GTA':'V', 'GTC':'V', 'GTG':'V', 'GTT':'V',\n",
        "        'GCA':'A', 'GCC':'A', 'GCG':'A', 'GCT':'A',\n",
        "        'GAC':'D', 'GAT':'D', 'GAA':'E', 'GAG':'E',\n",
        "        'GGA':'G', 'GGC':'G', 'GGG':'G', 'GGT':'G',\n",
        "        'TCA':'S', 'TCC':'S', 'TCG':'S', 'TCT':'S',\n",
        "        'TTC':'F', 'TTT':'F', 'TTA':'L', 'TTG':'L',\n",
        "        'TAC':'Y', 'TAT':'Y', 'TAA':'_', 'TAG':'_',\n",
        "        'TGC':'C', 'TGT':'C', 'TGA':'_', 'TGG':'W',\n",
        "    }\n",
        "\n",
        "    protein = \"\"\n",
        "\n",
        "    for i in range(0, len(seq), 3):\n",
        "      codon = seq[i:i+3]\n",
        "      if len(codon) % 3 == 0:\n",
        "        protein += codon_table[codon]\n",
        "      else:\n",
        "        print (\"The sequence have:\" + str(len(seq)) + \" pb and the last codon \" + str([codon]) + \" can`t be translete\")\n",
        "    return protein\n",
        "\n",
        "seq = \"ATCGAGACGATACATGG\"\n",
        "translate_sequence(seq)"
      ],
      "metadata": {
        "colab": {
          "base_uri": "https://localhost:8080/",
          "height": 52
        },
        "id": "HNNNuX-XmgH_",
        "outputId": "ff64fdf7-a3dd-4d33-d266-68eb6832f620"
      },
      "execution_count": 83,
      "outputs": [
        {
          "output_type": "stream",
          "name": "stdout",
          "text": [
            "The sequence have:17 pb and the last codon ['GG'] can`t be translete\n"
          ]
        },
        {
          "output_type": "execute_result",
          "data": {
            "text/plain": [
              "'IETIH'"
            ],
            "application/vnd.google.colaboratory.intrinsic+json": {
              "type": "string"
            }
          },
          "metadata": {},
          "execution_count": 83
        }
      ]
    },
    {
      "cell_type": "code",
      "source": [
        "print (10 > 20)"
      ],
      "metadata": {
        "colab": {
          "base_uri": "https://localhost:8080/"
        },
        "id": "A42oZLAsbBRj",
        "outputId": "37be5370-f3cc-4733-e46a-ab8aa7ed52f6"
      },
      "execution_count": null,
      "outputs": [
        {
          "output_type": "stream",
          "name": "stdout",
          "text": [
            "False\n"
          ]
        }
      ]
    },
    {
      "cell_type": "code",
      "source": [
        "## Contador de A, T, C y G\n",
        "seq = \"ATCGAAATTTTAAAAGC\"\n",
        "count_A = 0\n",
        "count_T = 0\n",
        "count_C = 0\n",
        "count_G = 0\n",
        "\n",
        "for i in range(len(seq)):\n",
        "  if seq[i] == \"A\":\n",
        "    count_A += 1\n",
        "  if seq[i] == \"T\":\n",
        "    count_T += 1\n",
        "  if seq[i] == \"C\":\n",
        "    count_C += 1\n",
        "  if seq[i] == \"G\":\n",
        "    count_G += 1\n",
        "print (\"hay\",count_A, \"Adeninas\")\n",
        "print (\"hay\",count_T, \"Timinas\")\n",
        "print (\"hay\",count_C, \"Citosinas\")\n",
        "print (\"hay\",count_G, \"Guaninas\")"
      ],
      "metadata": {
        "colab": {
          "base_uri": "https://localhost:8080/"
        },
        "id": "dyF0l5p7bWoU",
        "outputId": "33dc1a46-18f4-44f3-a902-35475d52daea"
      },
      "execution_count": null,
      "outputs": [
        {
          "output_type": "stream",
          "name": "stdout",
          "text": [
            "hay 8 Adeninas\n",
            "hay 5 Timinas\n",
            "hay 2 Citosinas\n",
            "hay 2 Guaninas\n"
          ]
        }
      ]
    },
    {
      "cell_type": "code",
      "source": [
        "# prompt: se puede añadir string a una lista sin la necesidad de agregar un metodo\n",
        "\n",
        "thislist = [\"apple\", \"banana\", \"cherry\"]\n",
        "print(thislist)\n",
        "\n",
        "# You can add a string to a list using the '+' operator.\n",
        "# This creates a *new* list with the string appended.\n",
        "\n",
        "new_list = thislist + [\"orange\"]\n",
        "print(new_list)\n",
        "\n",
        "\n",
        "#The original list remains unchanged:\n",
        "thislist\n"
      ],
      "metadata": {
        "id": "42nlaXOVggf5"
      },
      "execution_count": null,
      "outputs": []
    },
    {
      "cell_type": "code",
      "source": [
        "seq = \"ATCGAAATTTTAAAAGCA\"\n",
        "\n",
        "lista_codones = []\n",
        "for i in range(0,len(seq),3):\n",
        "  codon = seq[i:i+3]\n",
        "  lista_codones.append(codon)\n",
        "print (lista_codones)\n",
        "\n",
        "\n",
        "\n",
        "  #lista_codones.append(codon)\n",
        "#print (lista_codones)"
      ],
      "metadata": {
        "colab": {
          "base_uri": "https://localhost:8080/"
        },
        "id": "OcvN2ekqdjjO",
        "outputId": "24ae3b75-ecd2-461e-d891-0bdcab434769"
      },
      "execution_count": null,
      "outputs": [
        {
          "output_type": "stream",
          "name": "stdout",
          "text": [
            "['ATC', 'GAA', 'ATT', 'TTA', 'AAA', 'GCA']\n"
          ]
        }
      ]
    },
    {
      "cell_type": "code",
      "source": [
        "# prompt: genera un diccionario de codones con su respectiva aminoacidos\n",
        "def translate(codon):\n",
        "  codon_aminoacid_dict = {\n",
        "      'ATA':'I', 'ATC':'I', 'ATT':'I', 'ATG':'M',\n",
        "      'ACA':'T', 'ACC':'T', 'ACG':'T', 'ACT':'T',\n",
        "      'AAC':'N', 'AAT':'N', 'AAA':'K', 'AAG':'K',\n",
        "      'AGC':'S', 'AGT':'S', 'AGA':'R', 'AGG':'R',\n",
        "      'CTA':'L', 'CTC':'L', 'CTG':'L', 'CTT':'L',\n",
        "      'CCA':'P', 'CCC':'P', 'CCG':'P', 'CCT':'P',\n",
        "      'CAC':'H', 'CAT':'H', 'CAA':'Q', 'CAG':'Q',\n",
        "      'CGA':'R', 'CGC':'R', 'CGG':'R', 'CGT':'R',\n",
        "      'GTA':'V', 'GTC':'V', 'GTG':'V', 'GTT':'V',\n",
        "      'GCA':'A', 'GCC':'A', 'GCG':'A', 'GCT':'A',\n",
        "      'GAC':'D', 'GAT':'D', 'GAA':'E', 'GAG':'E',\n",
        "      'GGA':'G', 'GGC':'G', 'GGG':'G', 'GGT':'G',\n",
        "      'TCA':'S', 'TCC':'S', 'TCG':'S', 'TCT':'S',\n",
        "      'TTC':'F', 'TTT':'F', 'TTA':'L', 'TTG':'L',\n",
        "      'TAC':'Y', 'TAT':'Y', 'TAA':'_', 'TAG':'_',\n",
        "      'TGC':'C', 'TGT':'C', 'TGA':'_', 'TGG':'W',\n",
        "      }\n",
        "  aminoacid = codon_aminoacid_dict[codon]\n",
        "  return aminoacid\n",
        "\n",
        "\n",
        "# Funcion que traduzca en codones\n",
        "seq = \"ATCGAAATTTTAAAAGCAATCGACATACAATCGAGACGTAT\"\n",
        "lista_codones = []\n",
        "seq_aa = \"\"\n",
        "\n",
        "for i in range(0,len(seq),3):\n",
        "  codones = seq[i:i+3]\n",
        "  seq_aa = seq_aa + translate(codones)\n",
        "\n",
        "print (seq_aa)\n"
      ],
      "metadata": {
        "colab": {
          "base_uri": "https://localhost:8080/"
        },
        "id": "Ysv_QnRrlufY",
        "outputId": "207071ee-e2d9-4eda-e24b-b042fc03b411"
      },
      "execution_count": null,
      "outputs": [
        {
          "output_type": "stream",
          "name": "stdout",
          "text": [
            "IEILKA\n"
          ]
        }
      ]
    },
    {
      "cell_type": "code",
      "source": [
        "import matplotlib.pyplot as plt\n"
      ],
      "metadata": {
        "id": "jwH828o-qMWj"
      },
      "execution_count": null,
      "outputs": []
    },
    {
      "cell_type": "code",
      "source": [
        "# prompt: genera un codigo para contar las frecuencias de una secuencia aminoacidica y despues graficar esa secuencia con matplotlib, y usar con diccionario. Editar los colores del grafico\n",
        "\n",
        "import matplotlib.pyplot as plt\n",
        "\n",
        "def count_amino_acids(sequence):\n",
        "  \"\"\"Counts the frequency of each amino acid in a sequence.\n",
        "  Args:\n",
        "      sequence: The amino acid sequence.\n",
        "  Returns:\n",
        "      A dictionary where keys are amino acids and values are their frequencies.\n",
        "  \"\"\"\n",
        "  amino_acid_counts = {}\n",
        "  for amino_acid in sequence:\n",
        "    amino_acid_counts[amino_acid] = amino_acid_counts.get(amino_acid, 0) + 1\n",
        "  return amino_acid_counts\n",
        "\n",
        "\n",
        "def plot_amino_acid_frequencies(amino_acid_counts):\n",
        "  \"\"\"Plots the frequencies of amino acids in a sequence.\n",
        "  Args:\n",
        "      amino_acid_counts: A dictionary of amino acid frequencies.\n",
        "  \"\"\"\n",
        "  amino_acids = list(amino_acid_counts.keys())\n",
        "  frequencies = list(amino_acid_counts.values())\n",
        "\n",
        "  plt.figure(figsize=(10, 6))  # Adjust figure size for better readability\n",
        "  bars = plt.bar(amino_acids, frequencies, color=['skyblue', 'lightcoral', 'lightgreen', 'gold', 'plum']) # Example colors\n",
        "\n",
        "  # Customize the plot\n",
        "  plt.xlabel(\"Amino Acids\")\n",
        "  plt.ylabel(\"Frequency\")\n",
        "  plt.title(\"Amino Acid Frequencies\")\n",
        "  plt.xticks(rotation=45, ha=\"right\")  # Rotate x-axis labels for better visibility\n",
        "  plt.tight_layout() # prevent labels from overlapping\n",
        "\n",
        "  plt.show()\n",
        "\n",
        "\n",
        "# Example usage\n",
        "sequence = \"MKKAASKARTHTTTTGGHHAA\" # Example sequence. Replace with your actual amino acid sequence.\n",
        "amino_acid_counts = count_amino_acids(sequence)\n",
        "plot_amino_acid_frequencies(amino_acid_counts)\n"
      ],
      "metadata": {
        "colab": {
          "base_uri": "https://localhost:8080/",
          "height": 607
        },
        "id": "5ZH6SAV8qwBN",
        "outputId": "41d8f1e8-cfe5-4697-bbef-9f638899d0fe"
      },
      "execution_count": null,
      "outputs": [
        {
          "output_type": "display_data",
          "data": {
            "text/plain": [
              "<Figure size 1000x600 with 1 Axes>"
            ],
            "image/png": "[encoded data removed]"
          },
          "metadata": {}
        }
      ]
    },
    {
      "cell_type": "markdown",
      "source": [
        "### echart *texto en cursiva*\n",
        "### rosalind, ejercicios de bioinformática"
      ],
      "metadata": {
        "id": "LNtReWJWsFVB"
      }
    }
  ]
}